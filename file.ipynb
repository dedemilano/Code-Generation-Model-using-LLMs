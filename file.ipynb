{
 "cells": [
  {
   "cell_type": "code",
   "execution_count": 16,
   "metadata": {},
   "outputs": [
    {
     "name": "stdout",
     "output_type": "stream",
     "text": [
      "Requirement already satisfied: transformers in c:\\users\\gueid\\anaconda3\\envs\\llmmultimodal\\lib\\site-packages (4.41.2)\n",
      "Requirement already satisfied: datasets in c:\\users\\gueid\\anaconda3\\envs\\llmmultimodal\\lib\\site-packages (2.19.2)\n",
      "Requirement already satisfied: filelock in c:\\users\\gueid\\anaconda3\\envs\\llmmultimodal\\lib\\site-packages (from transformers) (3.14.0)\n",
      "Requirement already satisfied: huggingface-hub<1.0,>=0.23.0 in c:\\users\\gueid\\anaconda3\\envs\\llmmultimodal\\lib\\site-packages (from transformers) (0.23.3)\n",
      "Requirement already satisfied: numpy>=1.17 in c:\\users\\gueid\\anaconda3\\envs\\llmmultimodal\\lib\\site-packages (from transformers) (1.26.4)\n",
      "Requirement already satisfied: packaging>=20.0 in c:\\users\\gueid\\appdata\\roaming\\python\\python312\\site-packages (from transformers) (23.2)\n",
      "Requirement already satisfied: pyyaml>=5.1 in c:\\users\\gueid\\anaconda3\\envs\\llmmultimodal\\lib\\site-packages (from transformers) (6.0.1)\n",
      "Requirement already satisfied: regex!=2019.12.17 in c:\\users\\gueid\\anaconda3\\envs\\llmmultimodal\\lib\\site-packages (from transformers) (2024.5.15)\n",
      "Requirement already satisfied: requests in c:\\users\\gueid\\anaconda3\\envs\\llmmultimodal\\lib\\site-packages (from transformers) (2.32.3)\n",
      "Requirement already satisfied: tokenizers<0.20,>=0.19 in c:\\users\\gueid\\anaconda3\\envs\\llmmultimodal\\lib\\site-packages (from transformers) (0.19.1)\n",
      "Requirement already satisfied: safetensors>=0.4.1 in c:\\users\\gueid\\anaconda3\\envs\\llmmultimodal\\lib\\site-packages (from transformers) (0.4.3)\n",
      "Requirement already satisfied: tqdm>=4.27 in c:\\users\\gueid\\anaconda3\\envs\\llmmultimodal\\lib\\site-packages (from transformers) (4.66.4)\n",
      "Requirement already satisfied: pyarrow>=12.0.0 in c:\\users\\gueid\\anaconda3\\envs\\llmmultimodal\\lib\\site-packages (from datasets) (16.1.0)\n",
      "Requirement already satisfied: pyarrow-hotfix in c:\\users\\gueid\\anaconda3\\envs\\llmmultimodal\\lib\\site-packages (from datasets) (0.6)\n",
      "Requirement already satisfied: dill<0.3.9,>=0.3.0 in c:\\users\\gueid\\anaconda3\\envs\\llmmultimodal\\lib\\site-packages (from datasets) (0.3.8)\n",
      "Requirement already satisfied: pandas in c:\\users\\gueid\\anaconda3\\envs\\llmmultimodal\\lib\\site-packages (from datasets) (2.2.2)\n",
      "Requirement already satisfied: xxhash in c:\\users\\gueid\\anaconda3\\envs\\llmmultimodal\\lib\\site-packages (from datasets) (3.4.1)\n",
      "Requirement already satisfied: multiprocess in c:\\users\\gueid\\anaconda3\\envs\\llmmultimodal\\lib\\site-packages (from datasets) (0.70.16)\n",
      "Requirement already satisfied: fsspec<=2024.3.1,>=2023.1.0 in c:\\users\\gueid\\anaconda3\\envs\\llmmultimodal\\lib\\site-packages (from fsspec[http]<=2024.3.1,>=2023.1.0->datasets) (2024.3.1)\n",
      "Requirement already satisfied: aiohttp in c:\\users\\gueid\\anaconda3\\envs\\llmmultimodal\\lib\\site-packages (from datasets) (3.9.5)\n",
      "Requirement already satisfied: aiosignal>=1.1.2 in c:\\users\\gueid\\anaconda3\\envs\\llmmultimodal\\lib\\site-packages (from aiohttp->datasets) (1.3.1)\n",
      "Requirement already satisfied: attrs>=17.3.0 in c:\\users\\gueid\\anaconda3\\envs\\llmmultimodal\\lib\\site-packages (from aiohttp->datasets) (23.2.0)\n",
      "Requirement already satisfied: frozenlist>=1.1.1 in c:\\users\\gueid\\anaconda3\\envs\\llmmultimodal\\lib\\site-packages (from aiohttp->datasets) (1.4.1)\n",
      "Requirement already satisfied: multidict<7.0,>=4.5 in c:\\users\\gueid\\anaconda3\\envs\\llmmultimodal\\lib\\site-packages (from aiohttp->datasets) (6.0.5)\n",
      "Requirement already satisfied: yarl<2.0,>=1.0 in c:\\users\\gueid\\anaconda3\\envs\\llmmultimodal\\lib\\site-packages (from aiohttp->datasets) (1.9.4)\n",
      "Requirement already satisfied: typing-extensions>=3.7.4.3 in c:\\users\\gueid\\anaconda3\\envs\\llmmultimodal\\lib\\site-packages (from huggingface-hub<1.0,>=0.23.0->transformers) (4.12.2)\n",
      "Requirement already satisfied: charset-normalizer<4,>=2 in c:\\users\\gueid\\anaconda3\\envs\\llmmultimodal\\lib\\site-packages (from requests->transformers) (3.3.2)\n",
      "Requirement already satisfied: idna<4,>=2.5 in c:\\users\\gueid\\anaconda3\\envs\\llmmultimodal\\lib\\site-packages (from requests->transformers) (3.7)\n",
      "Requirement already satisfied: urllib3<3,>=1.21.1 in c:\\users\\gueid\\anaconda3\\envs\\llmmultimodal\\lib\\site-packages (from requests->transformers) (2.2.1)\n",
      "Requirement already satisfied: certifi>=2017.4.17 in c:\\users\\gueid\\anaconda3\\envs\\llmmultimodal\\lib\\site-packages (from requests->transformers) (2024.6.2)\n",
      "Requirement already satisfied: colorama in c:\\users\\gueid\\appdata\\roaming\\python\\python312\\site-packages (from tqdm>=4.27->transformers) (0.4.6)\n",
      "Requirement already satisfied: python-dateutil>=2.8.2 in c:\\users\\gueid\\appdata\\roaming\\python\\python312\\site-packages (from pandas->datasets) (2.8.2)\n",
      "Requirement already satisfied: pytz>=2020.1 in c:\\users\\gueid\\anaconda3\\envs\\llmmultimodal\\lib\\site-packages (from pandas->datasets) (2024.1)\n",
      "Requirement already satisfied: tzdata>=2022.7 in c:\\users\\gueid\\anaconda3\\envs\\llmmultimodal\\lib\\site-packages (from pandas->datasets) (2024.1)\n",
      "Requirement already satisfied: six>=1.5 in c:\\users\\gueid\\appdata\\roaming\\python\\python312\\site-packages (from python-dateutil>=2.8.2->pandas->datasets) (1.16.0)\n",
      "Requirement already satisfied: accelerate in c:\\users\\gueid\\anaconda3\\envs\\llmmultimodal\\lib\\site-packages (0.31.0)\n",
      "Requirement already satisfied: transformers[torch] in c:\\users\\gueid\\anaconda3\\envs\\llmmultimodal\\lib\\site-packages (4.41.2)\n",
      "Requirement already satisfied: filelock in c:\\users\\gueid\\anaconda3\\envs\\llmmultimodal\\lib\\site-packages (from transformers[torch]) (3.14.0)\n",
      "Requirement already satisfied: huggingface-hub<1.0,>=0.23.0 in c:\\users\\gueid\\anaconda3\\envs\\llmmultimodal\\lib\\site-packages (from transformers[torch]) (0.23.3)\n",
      "Requirement already satisfied: numpy>=1.17 in c:\\users\\gueid\\anaconda3\\envs\\llmmultimodal\\lib\\site-packages (from transformers[torch]) (1.26.4)\n",
      "Requirement already satisfied: packaging>=20.0 in c:\\users\\gueid\\appdata\\roaming\\python\\python312\\site-packages (from transformers[torch]) (23.2)\n",
      "Requirement already satisfied: pyyaml>=5.1 in c:\\users\\gueid\\anaconda3\\envs\\llmmultimodal\\lib\\site-packages (from transformers[torch]) (6.0.1)\n",
      "Requirement already satisfied: regex!=2019.12.17 in c:\\users\\gueid\\anaconda3\\envs\\llmmultimodal\\lib\\site-packages (from transformers[torch]) (2024.5.15)\n",
      "Requirement already satisfied: requests in c:\\users\\gueid\\anaconda3\\envs\\llmmultimodal\\lib\\site-packages (from transformers[torch]) (2.32.3)\n",
      "Requirement already satisfied: tokenizers<0.20,>=0.19 in c:\\users\\gueid\\anaconda3\\envs\\llmmultimodal\\lib\\site-packages (from transformers[torch]) (0.19.1)\n",
      "Requirement already satisfied: safetensors>=0.4.1 in c:\\users\\gueid\\anaconda3\\envs\\llmmultimodal\\lib\\site-packages (from transformers[torch]) (0.4.3)\n",
      "Requirement already satisfied: tqdm>=4.27 in c:\\users\\gueid\\anaconda3\\envs\\llmmultimodal\\lib\\site-packages (from transformers[torch]) (4.66.4)\n",
      "Requirement already satisfied: torch in c:\\users\\gueid\\anaconda3\\envs\\llmmultimodal\\lib\\site-packages (from transformers[torch]) (2.3.1)\n",
      "Requirement already satisfied: psutil in c:\\users\\gueid\\appdata\\roaming\\python\\python312\\site-packages (from accelerate) (5.9.6)\n",
      "Requirement already satisfied: fsspec>=2023.5.0 in c:\\users\\gueid\\anaconda3\\envs\\llmmultimodal\\lib\\site-packages (from huggingface-hub<1.0,>=0.23.0->transformers[torch]) (2024.3.1)\n",
      "Requirement already satisfied: typing-extensions>=3.7.4.3 in c:\\users\\gueid\\anaconda3\\envs\\llmmultimodal\\lib\\site-packages (from huggingface-hub<1.0,>=0.23.0->transformers[torch]) (4.12.2)\n",
      "Requirement already satisfied: sympy in c:\\users\\gueid\\anaconda3\\envs\\llmmultimodal\\lib\\site-packages (from torch->transformers[torch]) (1.12.1)\n",
      "Requirement already satisfied: networkx in c:\\users\\gueid\\anaconda3\\envs\\llmmultimodal\\lib\\site-packages (from torch->transformers[torch]) (3.3)\n",
      "Requirement already satisfied: jinja2 in c:\\users\\gueid\\anaconda3\\envs\\llmmultimodal\\lib\\site-packages (from torch->transformers[torch]) (3.1.4)\n",
      "Requirement already satisfied: mkl<=2021.4.0,>=2021.1.1 in c:\\users\\gueid\\anaconda3\\envs\\llmmultimodal\\lib\\site-packages (from torch->transformers[torch]) (2021.4.0)\n",
      "Requirement already satisfied: colorama in c:\\users\\gueid\\appdata\\roaming\\python\\python312\\site-packages (from tqdm>=4.27->transformers[torch]) (0.4.6)\n",
      "Requirement already satisfied: charset-normalizer<4,>=2 in c:\\users\\gueid\\anaconda3\\envs\\llmmultimodal\\lib\\site-packages (from requests->transformers[torch]) (3.3.2)\n",
      "Requirement already satisfied: idna<4,>=2.5 in c:\\users\\gueid\\anaconda3\\envs\\llmmultimodal\\lib\\site-packages (from requests->transformers[torch]) (3.7)\n",
      "Requirement already satisfied: urllib3<3,>=1.21.1 in c:\\users\\gueid\\anaconda3\\envs\\llmmultimodal\\lib\\site-packages (from requests->transformers[torch]) (2.2.1)\n",
      "Requirement already satisfied: certifi>=2017.4.17 in c:\\users\\gueid\\anaconda3\\envs\\llmmultimodal\\lib\\site-packages (from requests->transformers[torch]) (2024.6.2)\n",
      "Requirement already satisfied: intel-openmp==2021.* in c:\\users\\gueid\\anaconda3\\envs\\llmmultimodal\\lib\\site-packages (from mkl<=2021.4.0,>=2021.1.1->torch->transformers[torch]) (2021.4.0)\n",
      "Requirement already satisfied: tbb==2021.* in c:\\users\\gueid\\anaconda3\\envs\\llmmultimodal\\lib\\site-packages (from mkl<=2021.4.0,>=2021.1.1->torch->transformers[torch]) (2021.12.0)\n",
      "Requirement already satisfied: MarkupSafe>=2.0 in c:\\users\\gueid\\anaconda3\\envs\\llmmultimodal\\lib\\site-packages (from jinja2->torch->transformers[torch]) (2.1.5)\n",
      "Requirement already satisfied: mpmath<1.4.0,>=1.1.0 in c:\\users\\gueid\\anaconda3\\envs\\llmmultimodal\\lib\\site-packages (from sympy->torch->transformers[torch]) (1.3.0)\n",
      "Requirement already satisfied: python-dotenv in c:\\users\\gueid\\anaconda3\\envs\\llmmultimodal\\lib\\site-packages (1.0.1)\n"
     ]
    }
   ],
   "source": [
    "! pip install transformers datasets\n",
    "! pip install transformers[torch] accelerate -U\n",
    "! pip install python-dotenv"
   ]
  },
  {
   "cell_type": "code",
   "execution_count": 17,
   "metadata": {},
   "outputs": [
    {
     "name": "stdout",
     "output_type": "stream",
     "text": [
      "Requirement already satisfied: PyGithub in c:\\users\\gueid\\anaconda3\\envs\\llmmultimodal\\lib\\site-packages (2.3.0)\n",
      "Requirement already satisfied: datasets in c:\\users\\gueid\\anaconda3\\envs\\llmmultimodal\\lib\\site-packages (2.19.2)\n",
      "Requirement already satisfied: pynacl>=1.4.0 in c:\\users\\gueid\\anaconda3\\envs\\llmmultimodal\\lib\\site-packages (from PyGithub) (1.5.0)\n",
      "Requirement already satisfied: requests>=2.14.0 in c:\\users\\gueid\\anaconda3\\envs\\llmmultimodal\\lib\\site-packages (from PyGithub) (2.32.3)\n",
      "Requirement already satisfied: pyjwt>=2.4.0 in c:\\users\\gueid\\anaconda3\\envs\\llmmultimodal\\lib\\site-packages (from pyjwt[crypto]>=2.4.0->PyGithub) (2.8.0)\n",
      "Requirement already satisfied: typing-extensions>=4.0.0 in c:\\users\\gueid\\anaconda3\\envs\\llmmultimodal\\lib\\site-packages (from PyGithub) (4.12.2)\n",
      "Requirement already satisfied: urllib3>=1.26.0 in c:\\users\\gueid\\anaconda3\\envs\\llmmultimodal\\lib\\site-packages (from PyGithub) (2.2.1)\n",
      "Requirement already satisfied: Deprecated in c:\\users\\gueid\\anaconda3\\envs\\llmmultimodal\\lib\\site-packages (from PyGithub) (1.2.14)\n",
      "Requirement already satisfied: filelock in c:\\users\\gueid\\anaconda3\\envs\\llmmultimodal\\lib\\site-packages (from datasets) (3.14.0)\n",
      "Requirement already satisfied: numpy>=1.17 in c:\\users\\gueid\\anaconda3\\envs\\llmmultimodal\\lib\\site-packages (from datasets) (1.26.4)\n",
      "Requirement already satisfied: pyarrow>=12.0.0 in c:\\users\\gueid\\anaconda3\\envs\\llmmultimodal\\lib\\site-packages (from datasets) (16.1.0)\n",
      "Requirement already satisfied: pyarrow-hotfix in c:\\users\\gueid\\anaconda3\\envs\\llmmultimodal\\lib\\site-packages (from datasets) (0.6)\n",
      "Requirement already satisfied: dill<0.3.9,>=0.3.0 in c:\\users\\gueid\\anaconda3\\envs\\llmmultimodal\\lib\\site-packages (from datasets) (0.3.8)\n",
      "Requirement already satisfied: pandas in c:\\users\\gueid\\anaconda3\\envs\\llmmultimodal\\lib\\site-packages (from datasets) (2.2.2)\n",
      "Requirement already satisfied: tqdm>=4.62.1 in c:\\users\\gueid\\anaconda3\\envs\\llmmultimodal\\lib\\site-packages (from datasets) (4.66.4)\n",
      "Requirement already satisfied: xxhash in c:\\users\\gueid\\anaconda3\\envs\\llmmultimodal\\lib\\site-packages (from datasets) (3.4.1)\n",
      "Requirement already satisfied: multiprocess in c:\\users\\gueid\\anaconda3\\envs\\llmmultimodal\\lib\\site-packages (from datasets) (0.70.16)\n",
      "Requirement already satisfied: fsspec<=2024.3.1,>=2023.1.0 in c:\\users\\gueid\\anaconda3\\envs\\llmmultimodal\\lib\\site-packages (from fsspec[http]<=2024.3.1,>=2023.1.0->datasets) (2024.3.1)\n",
      "Requirement already satisfied: aiohttp in c:\\users\\gueid\\anaconda3\\envs\\llmmultimodal\\lib\\site-packages (from datasets) (3.9.5)\n",
      "Requirement already satisfied: huggingface-hub>=0.21.2 in c:\\users\\gueid\\anaconda3\\envs\\llmmultimodal\\lib\\site-packages (from datasets) (0.23.3)\n",
      "Requirement already satisfied: packaging in c:\\users\\gueid\\appdata\\roaming\\python\\python312\\site-packages (from datasets) (23.2)\n",
      "Requirement already satisfied: pyyaml>=5.1 in c:\\users\\gueid\\anaconda3\\envs\\llmmultimodal\\lib\\site-packages (from datasets) (6.0.1)\n",
      "Requirement already satisfied: aiosignal>=1.1.2 in c:\\users\\gueid\\anaconda3\\envs\\llmmultimodal\\lib\\site-packages (from aiohttp->datasets) (1.3.1)\n",
      "Requirement already satisfied: attrs>=17.3.0 in c:\\users\\gueid\\anaconda3\\envs\\llmmultimodal\\lib\\site-packages (from aiohttp->datasets) (23.2.0)\n",
      "Requirement already satisfied: frozenlist>=1.1.1 in c:\\users\\gueid\\anaconda3\\envs\\llmmultimodal\\lib\\site-packages (from aiohttp->datasets) (1.4.1)\n",
      "Requirement already satisfied: multidict<7.0,>=4.5 in c:\\users\\gueid\\anaconda3\\envs\\llmmultimodal\\lib\\site-packages (from aiohttp->datasets) (6.0.5)\n",
      "Requirement already satisfied: yarl<2.0,>=1.0 in c:\\users\\gueid\\anaconda3\\envs\\llmmultimodal\\lib\\site-packages (from aiohttp->datasets) (1.9.4)\n",
      "Requirement already satisfied: cryptography>=3.4.0 in c:\\users\\gueid\\anaconda3\\envs\\llmmultimodal\\lib\\site-packages (from pyjwt[crypto]>=2.4.0->PyGithub) (42.0.8)\n",
      "Requirement already satisfied: cffi>=1.4.1 in c:\\users\\gueid\\anaconda3\\envs\\llmmultimodal\\lib\\site-packages (from pynacl>=1.4.0->PyGithub) (1.16.0)\n",
      "Requirement already satisfied: charset-normalizer<4,>=2 in c:\\users\\gueid\\anaconda3\\envs\\llmmultimodal\\lib\\site-packages (from requests>=2.14.0->PyGithub) (3.3.2)\n",
      "Requirement already satisfied: idna<4,>=2.5 in c:\\users\\gueid\\anaconda3\\envs\\llmmultimodal\\lib\\site-packages (from requests>=2.14.0->PyGithub) (3.7)\n",
      "Requirement already satisfied: certifi>=2017.4.17 in c:\\users\\gueid\\anaconda3\\envs\\llmmultimodal\\lib\\site-packages (from requests>=2.14.0->PyGithub) (2024.6.2)\n",
      "Requirement already satisfied: colorama in c:\\users\\gueid\\appdata\\roaming\\python\\python312\\site-packages (from tqdm>=4.62.1->datasets) (0.4.6)\n",
      "Requirement already satisfied: wrapt<2,>=1.10 in c:\\users\\gueid\\anaconda3\\envs\\llmmultimodal\\lib\\site-packages (from Deprecated->PyGithub) (1.16.0)\n",
      "Requirement already satisfied: python-dateutil>=2.8.2 in c:\\users\\gueid\\appdata\\roaming\\python\\python312\\site-packages (from pandas->datasets) (2.8.2)\n",
      "Requirement already satisfied: pytz>=2020.1 in c:\\users\\gueid\\anaconda3\\envs\\llmmultimodal\\lib\\site-packages (from pandas->datasets) (2024.1)\n",
      "Requirement already satisfied: tzdata>=2022.7 in c:\\users\\gueid\\anaconda3\\envs\\llmmultimodal\\lib\\site-packages (from pandas->datasets) (2024.1)\n",
      "Requirement already satisfied: pycparser in c:\\users\\gueid\\anaconda3\\envs\\llmmultimodal\\lib\\site-packages (from cffi>=1.4.1->pynacl>=1.4.0->PyGithub) (2.22)\n",
      "Requirement already satisfied: six>=1.5 in c:\\users\\gueid\\appdata\\roaming\\python\\python312\\site-packages (from python-dateutil>=2.8.2->pandas->datasets) (1.16.0)\n"
     ]
    }
   ],
   "source": [
    "! pip install PyGithub datasets"
   ]
  },
  {
   "cell_type": "code",
   "execution_count": 18,
   "metadata": {},
   "outputs": [
    {
     "name": "stderr",
     "output_type": "stream",
     "text": [
      "Saving the dataset (1/1 shards): 100%|██████████| 974/974 [00:00<00:00, 120501.80 examples/s]"
     ]
    },
    {
     "name": "stdout",
     "output_type": "stream",
     "text": [
      "Dataset created and saved to disk.\n"
     ]
    },
    {
     "name": "stderr",
     "output_type": "stream",
     "text": [
      "\n"
     ]
    }
   ],
   "source": [
    "from github import Github\n",
    "import re \n",
    "from datasets import Dataset\n",
    "import os\n",
    "from dotenv import load_dotenv\n",
    "\n",
    "load_dotenv()\n",
    "\n",
    "# load the GitHub token from the environment variables\n",
    "api_token = os.getenv(\"api_token\")\n",
    "\n",
    "# initialize PyGithub with the GitHub token\n",
    "g = Github(api_token)\n",
    "\n",
    "# specify the repository\n",
    "repo = g.get_repo(\"openai/gym\")\n",
    "\n",
    "# function to extract Python functions from a script\n",
    "def extract_functions_from_code(code):\n",
    "    pattern = re.compile(r\"def\\s+(\\w+)\\s*\\(.*\\):\")\n",
    "    functions = pattern.findall(code)\n",
    "    return functions\n",
    "\n",
    "# fetch Python files from the repository \n",
    "python_files = []\n",
    "contents = repo.get_contents(\"\")\n",
    "while contents:\n",
    "    file_content = contents.pop(0)\n",
    "    if file_content.type == \"dir\":\n",
    "        contents.extend(repo.get_contents(file_content.path))\n",
    "    else:\n",
    "        if file_content.path.endswith(\".py\"):\n",
    "            python_files.append(file_content)\n",
    "\n",
    "# extract functions and create dataset\n",
    "data = {\"code\": [], \"function_name\": []}\n",
    "for file in python_files:\n",
    "    code = file.decoded_content.decode(\"utf-8\")\n",
    "    functions = extract_functions_from_code(code)\n",
    "    for function in functions:\n",
    "        data[\"code\"].append(code)\n",
    "        data[\"function_name\"].append(function)\n",
    "\n",
    "# create a Hugging Face dataset\n",
    "dataset = Dataset.from_dict(data)\n",
    "\n",
    "# save the dataset to disk\n",
    "dataset.save_to_disk(\"code_generation_dataset\")\n",
    "\n",
    "print(\"Dataset created and saved to disk.\")\n"
   ]
  },
  {
   "cell_type": "markdown",
   "metadata": {},
   "source": [
    "Now, we will use a pre-trained LLM model from Salesforce to fine-tune the model on our dataset for the task of code generation:"
   ]
  },
  {
   "cell_type": "code",
   "execution_count": 19,
   "metadata": {},
   "outputs": [],
   "source": [
    "from datasets import load_from_disk\n",
    "from transformers import AutoTokenizer , AutoModelForCausalLM , Trainer , TrainingArguments\n",
    "\n",
    "# load the tokenizer and model\n",
    "tokenizer = AutoTokenizer.from_pretrained(\"Salesforce/codegen-350M-mono\")\n",
    "model = AutoModelForCausalLM.from_pretrained(\"Salesforce/codegen-350M-mono\")\n",
    "\n",
    "# set the pad_token to eos_token or add a new pad token\n",
    "tokenizer.pad_token = tokenizer.eos_token\n",
    "\n",
    "# load the dataset\n",
    "dataset = load_from_disk(\"code_generation_dataset\")\n",
    "\n",
    "# split the dataset into training and test sets\n",
    "dataset = dataset.train_test_split(test_size=0.1)\n",
    "\n",
    "# preprocess the dataset\n",
    "def preprocess_function(examples):\n",
    "    inputs = tokenizer(examples[\"code\"], padding=\"max_length\", truncation=True)\n",
    "    inputs[\"labels\"] = inputs[\"input_ids\"].copy()\n",
    "    return inputs\n"
   ]
  },
  {
   "cell_type": "markdown",
   "metadata": {},
   "source": [
    "The above step prepares the data for efficient fine-tuning of the code generation model. And now, here’s how to fine-tune the model:"
   ]
  },
  {
   "cell_type": "code",
   "execution_count": 20,
   "metadata": {},
   "outputs": [
    {
     "name": "stderr",
     "output_type": "stream",
     "text": [
      "Map: 100%|██████████| 876/876 [00:01<00:00, 739.42 examples/s]\n",
      "Map: 100%|██████████| 98/98 [00:00<00:00, 358.55 examples/s]\n",
      "  0%|          | 0/438 [23:38<?, ?it/s]\n",
      "100%|██████████| 438/438 [6:49:50<00:00, 56.14s/it]   "
     ]
    },
    {
     "name": "stdout",
     "output_type": "stream",
     "text": [
      "{'train_runtime': 24590.3223, 'train_samples_per_second': 0.036, 'train_steps_per_second': 0.018, 'train_loss': 0.1876330092617366, 'epoch': 1.0}\n"
     ]
    },
    {
     "name": "stderr",
     "output_type": "stream",
     "text": [
      "\n"
     ]
    },
    {
     "data": {
      "text/plain": [
       "TrainOutput(global_step=438, training_loss=0.1876330092617366, metrics={'train_runtime': 24590.3223, 'train_samples_per_second': 0.036, 'train_steps_per_second': 0.018, 'total_flos': 3275396820762624.0, 'train_loss': 0.1876330092617366, 'epoch': 1.0})"
      ]
     },
     "execution_count": 20,
     "metadata": {},
     "output_type": "execute_result"
    }
   ],
   "source": [
    "tokenized_datasets = dataset.map(preprocess_function, batched=True)\n",
    "\n",
    "# fine-tune the model\n",
    "training_args = TrainingArguments(\n",
    "    output_dir=\"./results\",\n",
    "    per_device_train_batch_size=2,\n",
    "    num_train_epochs=1,\n",
    "    save_steps=10_000,\n",
    "    save_total_limit=2,\n",
    ")\n",
    "\n",
    "trainer = Trainer(model = model , \n",
    "                    args = training_args , \n",
    "                    train_dataset = tokenized_datasets[\"train\"] , \n",
    "                    eval_dataset = tokenized_datasets[\"test\"])\n",
    "\n",
    "trainer.train()"
   ]
  },
  {
   "cell_type": "markdown",
   "metadata": {},
   "source": [
    "This step will take time, depending on the computing power of your system. After this step, here’s how we can test our code generation model:"
   ]
  },
  {
   "cell_type": "code",
   "execution_count": 21,
   "metadata": {},
   "outputs": [
    {
     "name": "stderr",
     "output_type": "stream",
     "text": [
      "The attention mask and the pad token id were not set. As a consequence, you may observe unexpected behavior. Please pass your input's `attention_mask` to obtain reliable results.\n",
      "Setting `pad_token_id` to `eos_token_id`:50256 for open-end generation.\n"
     ]
    },
    {
     "name": "stdout",
     "output_type": "stream",
     "text": [
      "Generated Code:\n",
      "def merge_sort(arr):\n",
      "    if len(arr) > 1:\n",
      "        mid = len(arr) // 2\n",
      "        left = arr[:mid]\n",
      "        right = arr[mid:]\n",
      "\n",
      "        merge_sort(left)\n",
      "        merge_sort(right)\n",
      "\n",
      "        i = 0\n",
      "        j = 0\n",
      "        k = 0\n",
      "        while i < len(left) and j < len(right):\n",
      "            if left[i]\n"
     ]
    }
   ],
   "source": [
    "# define a function to generate code using the fine-tuned model\n",
    "def generate_code(prompt, max_length=100):\n",
    "    inputs = tokenizer(prompt, return_tensors=\"pt\")\n",
    "    outputs = model.generate(inputs['input_ids'], max_length=max_length)\n",
    "    generated_code = tokenizer.decode(outputs[0], skip_special_tokens=True)\n",
    "    return generated_code\n",
    "\n",
    "# test the model with a code generation prompt\n",
    "prompt = \"def merge_sort(arr):\"\n",
    "generated_code = generate_code(prompt)\n",
    "\n",
    "print(\"Generated Code:\")\n",
    "print(generated_code)"
   ]
  }
 ],
 "metadata": {
  "kernelspec": {
   "display_name": "llmmultimodal",
   "language": "python",
   "name": "python3"
  },
  "language_info": {
   "codemirror_mode": {
    "name": "ipython",
    "version": 3
   },
   "file_extension": ".py",
   "mimetype": "text/x-python",
   "name": "python",
   "nbconvert_exporter": "python",
   "pygments_lexer": "ipython3",
   "version": "3.12.2"
  }
 },
 "nbformat": 4,
 "nbformat_minor": 2
}
